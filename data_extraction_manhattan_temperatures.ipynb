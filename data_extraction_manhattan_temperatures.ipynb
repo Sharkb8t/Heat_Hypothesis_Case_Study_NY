{
 "cells": [
  {
   "cell_type": "markdown",
   "metadata": {},
   "source": [
    "### Install below libraries in order to run the rest of the notebook\n",
    "- !pip install openmeteo-requests\n",
    "- !pip install requests-cache retry-requests numpy pandas"
   ]
  },
  {
   "cell_type": "code",
   "execution_count": 1,
   "metadata": {},
   "outputs": [],
   "source": [
    "# Import dependencies\n",
    "\n",
    "import json\n",
    "import openmeteo_requests # need to install this library with above cell\n",
    "import requests_cache\n",
    "from retry_requests import retry\n",
    "import pandas as pd\n",
    "import datetime as dt"
   ]
  },
  {
   "cell_type": "code",
   "execution_count": 2,
   "metadata": {},
   "outputs": [],
   "source": [
    "# Date range\n",
    "start_date = '2013-01-01'\n",
    "end_date = '2023-12-31'\n",
    "\n",
    "# Coordinates\n",
    "central_park_lat = 40.7896239\n",
    "central_park_lon = -73.9598939\n",
    "wash_heights_lat = 40.8417052861612\n",
    "wash_heights_lon = -73.93934920585686\n",
    "west_vill_lat = 40.73473345314149\n",
    "west_vill_lon = -74.00460403083804\n",
    "midtown_lat = 40.75504999601737\n",
    "midtown_lon = -73.98400001962062\n",
    "fin_dist_lat = 40.707717754058876\n",
    "fin_dist_lon = -74.00783736342065\n",
    "\n"
   ]
  },
  {
   "cell_type": "code",
   "execution_count": 3,
   "metadata": {},
   "outputs": [],
   "source": [
    "# Setup the Open-Meteo API client with cache and retry on error\n",
    "cache_session = requests_cache.CachedSession('.cache', expire_after = -1)\n",
    "retry_session = retry(cache_session, retries = 5, backoff_factor = 0.2)\n",
    "openmeteo = openmeteo_requests.Client(session = retry_session)"
   ]
  },
  {
   "cell_type": "code",
   "execution_count": 4,
   "metadata": {},
   "outputs": [],
   "source": [
    "# Make sure all required weather variables are listed here\n",
    "# The order of variables in hourly or daily is important to assign them correctly below\n",
    "url = \"https://archive-api.open-meteo.com/v1/archive\"\n",
    "params = {\n",
    "\t\"latitude\": [central_park_lat, wash_heights_lat, west_vill_lat, midtown_lat, fin_dist_lat],\n",
    "\t\"longitude\": [central_park_lon, wash_heights_lon, west_vill_lon, midtown_lon, fin_dist_lon],\n",
    "\t\"start_date\": start_date,\n",
    "\t\"end_date\": end_date,\n",
    "\t\"daily\": [\"temperature_2m_max\", \"temperature_2m_min\", \"temperature_2m_mean\"],\n",
    "\t\"temperature_unit\": \"fahrenheit\",\n",
    "\t\"timezone\": \"America/New_York\"\n",
    "}\n",
    "responses = openmeteo.weather_api(url, params=params)"
   ]
  },
  {
   "cell_type": "code",
   "execution_count": 5,
   "metadata": {},
   "outputs": [],
   "source": [
    "# Process data. Set empty lists and define neighborhoods variable.\n",
    "neighborhoods = ['Central Park', 'Washington Heights','West Village','Midtown', 'Financial District']\n",
    "lat_list = [central_park_lat,wash_heights_lat, west_vill_lat, midtown_lat, fin_dist_lat]\n",
    "lon_list = [central_park_lon,wash_heights_lon, west_vill_lon, midtown_lon, fin_dist_lon]\n",
    "min_temp = []\n",
    "max_temp = []\n",
    "mean_temp = []\n",
    "location = []\n",
    "lat = []\n",
    "lon = []\n",
    "\n",
    "# Loop through responses, define lists from each response, assign element of neighborhood to name variable\n",
    "for x in range(len(responses)):\n",
    "    response = responses[x]\n",
    "    daily = response.Daily()\n",
    "    daily_temperature_2m_max = list(daily.Variables(0).ValuesAsNumpy())\n",
    "    daily_temperature_2m_min = list(daily.Variables(1).ValuesAsNumpy())\n",
    "    daily_temperature_2m_mean = list(daily.Variables(2).ValuesAsNumpy())\n",
    "    name = neighborhoods[x]\n",
    "    ltd = lat_list[x]\n",
    "    lng = lon_list[x]\n",
    "    \n",
    "    # Loop through number of elements in daily_temperature lists (4017), append each from each list into location, min_temp, max_temp, mean_temp lists\n",
    "    for y in range(len(daily_temperature_2m_max)):\n",
    "        location.append(name)\n",
    "        lat.append(ltd)\n",
    "        lon.append(lng)\n",
    "        min_temp.append(daily_temperature_2m_min[y])\n",
    "        max_temp.append(daily_temperature_2m_max[y])\n",
    "        mean_temp.append(daily_temperature_2m_mean[y])"
   ]
  },
  {
   "cell_type": "code",
   "execution_count": 6,
   "metadata": {},
   "outputs": [],
   "source": [
    "# Define the first element in responses to response, then get use .Daily() to get date value\n",
    "response = responses[0]\n",
    "daily = response.Daily()\n",
    "\n",
    "# Create DatetimeIndex object using pd.date_range into date_set\n",
    "date_set = pd.date_range(\n",
    "\tstart = pd.to_datetime(daily.Time(), unit = \"s\", utc = True),\n",
    "\tend = pd.to_datetime(daily.TimeEnd(), unit = \"s\", utc = True),\n",
    "\tfreq = pd.Timedelta(seconds = daily.Interval()),\n",
    "\tinclusive = \"left\"\n",
    "    )\n",
    "\n",
    "# Create copy of date_set into date\n",
    "date = date_set\n",
    "\n",
    "# Append date_set values into date 4 more times\n",
    "for x in range(4):\n",
    "    date = date.append(date_set)"
   ]
  },
  {
   "cell_type": "code",
   "execution_count": 7,
   "metadata": {},
   "outputs": [],
   "source": [
    "# Create DataFrame\n",
    "temp_df = pd.DataFrame({\n",
    "    \"Date\": date,\n",
    "    \"Location\" : location,\n",
    "    \"Latitude\": lat,\n",
    "    \"Longitude\": lon,\n",
    "    \"Min Temp\": min_temp,\n",
    "    \"Max Temp\": max_temp,\n",
    "    \"Mean Temp\": mean_temp\n",
    "    })"
   ]
  },
  {
   "cell_type": "code",
   "execution_count": 8,
   "metadata": {},
   "outputs": [
    {
     "name": "stdout",
     "output_type": "stream",
     "text": [
      "<class 'pandas.core.frame.DataFrame'>\n",
      "RangeIndex: 20085 entries, 0 to 20084\n",
      "Data columns (total 7 columns):\n",
      " #   Column     Non-Null Count  Dtype              \n",
      "---  ------     --------------  -----              \n",
      " 0   Date       20085 non-null  datetime64[ns, UTC]\n",
      " 1   Location   20085 non-null  object             \n",
      " 2   Latitude   20085 non-null  float64            \n",
      " 3   Longitude  20085 non-null  float64            \n",
      " 4   Min Temp   20085 non-null  float32            \n",
      " 5   Max Temp   20085 non-null  float32            \n",
      " 6   Mean Temp  20085 non-null  float32            \n",
      "dtypes: datetime64[ns, UTC](1), float32(3), float64(2), object(1)\n",
      "memory usage: 863.2+ KB\n"
     ]
    }
   ],
   "source": [
    "# Display info\n",
    "temp_df.info()"
   ]
  },
  {
   "cell_type": "code",
   "execution_count": null,
   "metadata": {},
   "outputs": [],
   "source": [
    "# Preview DataFrame\n",
    "temp_df.head(20)"
   ]
  },
  {
   "cell_type": "code",
   "execution_count": null,
   "metadata": {},
   "outputs": [],
   "source": [
    "# Save temp_df to CSV file\n",
    "temp_df.to_csv('Output/Manhattan_Temperatures_2013-2023.csv', index=False)"
   ]
  }
 ],
 "metadata": {
  "kernelspec": {
   "display_name": "Python 3 (ipykernel)",
   "language": "python",
   "name": "python3"
  },
  "language_info": {
   "codemirror_mode": {
    "name": "ipython",
    "version": 3
   },
   "file_extension": ".py",
   "mimetype": "text/x-python",
   "name": "python",
   "nbconvert_exporter": "python",
   "pygments_lexer": "ipython3",
   "version": "3.10.14"
  }
 },
 "nbformat": 4,
 "nbformat_minor": 4
}
